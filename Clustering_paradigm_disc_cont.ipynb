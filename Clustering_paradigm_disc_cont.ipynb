{
 "cells": [
  {
   "cell_type": "markdown",
   "metadata": {},
   "source": [
    "# Libraries"
   ]
  },
  {
   "cell_type": "code",
   "execution_count": 1,
   "metadata": {},
   "outputs": [],
   "source": [
    "import numpy as np\n",
    "import pandas as pd\n",
    "import matplotlib.pyplot as plt\n",
    "import seaborn as sns\n",
    "import umap.umap_ as umap\n",
    "from sklearn.cluster import DBSCAN\n",
    "import warnings\n",
    "warnings.filterwarnings('ignore')"
   ]
  },
  {
   "cell_type": "markdown",
   "metadata": {},
   "source": [
    "# Importing preprocessed data"
   ]
  },
  {
   "cell_type": "code",
   "execution_count": 2,
   "metadata": {},
   "outputs": [],
   "source": [
    "filename='Preprocessed_DM_xx.csv'\n",
    "data=pd.read_csv(filename, index_col=0)\n",
    "data_parent=data"
   ]
  },
  {
   "cell_type": "code",
   "execution_count": 3,
   "metadata": {},
   "outputs": [
    {
     "data": {
      "text/html": [
       "<div>\n",
       "<style scoped>\n",
       "    .dataframe tbody tr th:only-of-type {\n",
       "        vertical-align: middle;\n",
       "    }\n",
       "\n",
       "    .dataframe tbody tr th {\n",
       "        vertical-align: top;\n",
       "    }\n",
       "\n",
       "    .dataframe thead th {\n",
       "        text-align: right;\n",
       "    }\n",
       "</style>\n",
       "<table border=\"1\" class=\"dataframe\">\n",
       "  <thead>\n",
       "    <tr style=\"text-align: right;\">\n",
       "      <th></th>\n",
       "      <th>Current.age</th>\n",
       "      <th>Sex</th>\n",
       "      <th>Currently.has.asthma</th>\n",
       "      <th>Currently.has.thyroid.disorder</th>\n",
       "      <th>Currently.has.heart.disease</th>\n",
       "      <th>Currently.has.cancer</th>\n",
       "      <th>Suffers.from.TB</th>\n",
       "      <th>SBP_status</th>\n",
       "      <th>First.SYSTOLIC.reading</th>\n",
       "      <th>First.DIASTOLIC.reading</th>\n",
       "      <th>...</th>\n",
       "      <th>Has.motorcycle.scooter</th>\n",
       "      <th>Has.car.truck</th>\n",
       "      <th>Type.of.cooking.fuel</th>\n",
       "      <th>Household.structure</th>\n",
       "      <th>Owns.livestock..herds.or.farm.animals</th>\n",
       "      <th>Source.of.drinking.water</th>\n",
       "      <th>Time.to.get.to.water.source..minutes.</th>\n",
       "      <th>Glucose.level</th>\n",
       "      <th>DM_status</th>\n",
       "      <th>DM_history</th>\n",
       "    </tr>\n",
       "  </thead>\n",
       "  <tbody>\n",
       "    <tr>\n",
       "      <td>1</td>\n",
       "      <td>47</td>\n",
       "      <td>1</td>\n",
       "      <td>0.0</td>\n",
       "      <td>0.0</td>\n",
       "      <td>0.0</td>\n",
       "      <td>0.0</td>\n",
       "      <td>0</td>\n",
       "      <td>0</td>\n",
       "      <td>112.0</td>\n",
       "      <td>74.0</td>\n",
       "      <td>...</td>\n",
       "      <td>1</td>\n",
       "      <td>1</td>\n",
       "      <td>3</td>\n",
       "      <td>0</td>\n",
       "      <td>0</td>\n",
       "      <td>3</td>\n",
       "      <td>0</td>\n",
       "      <td>78.0</td>\n",
       "      <td>0</td>\n",
       "      <td>0.0</td>\n",
       "    </tr>\n",
       "    <tr>\n",
       "      <td>2</td>\n",
       "      <td>46</td>\n",
       "      <td>1</td>\n",
       "      <td>1.0</td>\n",
       "      <td>1.0</td>\n",
       "      <td>0.0</td>\n",
       "      <td>0.0</td>\n",
       "      <td>0</td>\n",
       "      <td>0</td>\n",
       "      <td>120.0</td>\n",
       "      <td>86.0</td>\n",
       "      <td>...</td>\n",
       "      <td>1</td>\n",
       "      <td>0</td>\n",
       "      <td>3</td>\n",
       "      <td>1</td>\n",
       "      <td>0</td>\n",
       "      <td>3</td>\n",
       "      <td>0</td>\n",
       "      <td>97.0</td>\n",
       "      <td>0</td>\n",
       "      <td>0.0</td>\n",
       "    </tr>\n",
       "    <tr>\n",
       "      <td>3</td>\n",
       "      <td>42</td>\n",
       "      <td>0</td>\n",
       "      <td>0.0</td>\n",
       "      <td>0.0</td>\n",
       "      <td>0.0</td>\n",
       "      <td>0.0</td>\n",
       "      <td>0</td>\n",
       "      <td>0</td>\n",
       "      <td>128.0</td>\n",
       "      <td>74.0</td>\n",
       "      <td>...</td>\n",
       "      <td>0</td>\n",
       "      <td>0</td>\n",
       "      <td>4</td>\n",
       "      <td>0</td>\n",
       "      <td>0</td>\n",
       "      <td>3</td>\n",
       "      <td>0</td>\n",
       "      <td>138.0</td>\n",
       "      <td>0</td>\n",
       "      <td>0.0</td>\n",
       "    </tr>\n",
       "    <tr>\n",
       "      <td>4</td>\n",
       "      <td>41</td>\n",
       "      <td>1</td>\n",
       "      <td>0.0</td>\n",
       "      <td>0.0</td>\n",
       "      <td>0.0</td>\n",
       "      <td>0.0</td>\n",
       "      <td>0</td>\n",
       "      <td>0</td>\n",
       "      <td>117.0</td>\n",
       "      <td>82.0</td>\n",
       "      <td>...</td>\n",
       "      <td>0</td>\n",
       "      <td>0</td>\n",
       "      <td>4</td>\n",
       "      <td>0</td>\n",
       "      <td>0</td>\n",
       "      <td>3</td>\n",
       "      <td>0</td>\n",
       "      <td>128.0</td>\n",
       "      <td>1</td>\n",
       "      <td>1.0</td>\n",
       "    </tr>\n",
       "    <tr>\n",
       "      <td>5</td>\n",
       "      <td>51</td>\n",
       "      <td>0</td>\n",
       "      <td>0.0</td>\n",
       "      <td>0.0</td>\n",
       "      <td>0.0</td>\n",
       "      <td>0.0</td>\n",
       "      <td>0</td>\n",
       "      <td>0</td>\n",
       "      <td>124.0</td>\n",
       "      <td>88.0</td>\n",
       "      <td>...</td>\n",
       "      <td>1</td>\n",
       "      <td>1</td>\n",
       "      <td>3</td>\n",
       "      <td>1</td>\n",
       "      <td>0</td>\n",
       "      <td>3</td>\n",
       "      <td>0</td>\n",
       "      <td>102.0</td>\n",
       "      <td>0</td>\n",
       "      <td>0.0</td>\n",
       "    </tr>\n",
       "    <tr>\n",
       "      <td>6</td>\n",
       "      <td>42</td>\n",
       "      <td>1</td>\n",
       "      <td>0.0</td>\n",
       "      <td>0.0</td>\n",
       "      <td>0.0</td>\n",
       "      <td>0.0</td>\n",
       "      <td>0</td>\n",
       "      <td>0</td>\n",
       "      <td>112.0</td>\n",
       "      <td>76.0</td>\n",
       "      <td>...</td>\n",
       "      <td>1</td>\n",
       "      <td>1</td>\n",
       "      <td>3</td>\n",
       "      <td>1</td>\n",
       "      <td>0</td>\n",
       "      <td>3</td>\n",
       "      <td>0</td>\n",
       "      <td>106.0</td>\n",
       "      <td>0</td>\n",
       "      <td>0.0</td>\n",
       "    </tr>\n",
       "    <tr>\n",
       "      <td>7</td>\n",
       "      <td>20</td>\n",
       "      <td>0</td>\n",
       "      <td>0.0</td>\n",
       "      <td>0.0</td>\n",
       "      <td>0.0</td>\n",
       "      <td>0.0</td>\n",
       "      <td>0</td>\n",
       "      <td>0</td>\n",
       "      <td>113.0</td>\n",
       "      <td>60.0</td>\n",
       "      <td>...</td>\n",
       "      <td>1</td>\n",
       "      <td>1</td>\n",
       "      <td>3</td>\n",
       "      <td>1</td>\n",
       "      <td>0</td>\n",
       "      <td>3</td>\n",
       "      <td>0</td>\n",
       "      <td>96.0</td>\n",
       "      <td>0</td>\n",
       "      <td>0.0</td>\n",
       "    </tr>\n",
       "    <tr>\n",
       "      <td>8</td>\n",
       "      <td>17</td>\n",
       "      <td>0</td>\n",
       "      <td>0.0</td>\n",
       "      <td>0.0</td>\n",
       "      <td>0.0</td>\n",
       "      <td>0.0</td>\n",
       "      <td>0</td>\n",
       "      <td>0</td>\n",
       "      <td>115.0</td>\n",
       "      <td>67.0</td>\n",
       "      <td>...</td>\n",
       "      <td>1</td>\n",
       "      <td>1</td>\n",
       "      <td>3</td>\n",
       "      <td>1</td>\n",
       "      <td>0</td>\n",
       "      <td>3</td>\n",
       "      <td>0</td>\n",
       "      <td>96.0</td>\n",
       "      <td>0</td>\n",
       "      <td>0.0</td>\n",
       "    </tr>\n",
       "    <tr>\n",
       "      <td>11</td>\n",
       "      <td>22</td>\n",
       "      <td>1</td>\n",
       "      <td>0.0</td>\n",
       "      <td>0.0</td>\n",
       "      <td>0.0</td>\n",
       "      <td>0.0</td>\n",
       "      <td>0</td>\n",
       "      <td>0</td>\n",
       "      <td>121.0</td>\n",
       "      <td>72.0</td>\n",
       "      <td>...</td>\n",
       "      <td>1</td>\n",
       "      <td>0</td>\n",
       "      <td>3</td>\n",
       "      <td>0</td>\n",
       "      <td>0</td>\n",
       "      <td>3</td>\n",
       "      <td>0</td>\n",
       "      <td>100.0</td>\n",
       "      <td>0</td>\n",
       "      <td>0.0</td>\n",
       "    </tr>\n",
       "    <tr>\n",
       "      <td>12</td>\n",
       "      <td>27</td>\n",
       "      <td>0</td>\n",
       "      <td>0.0</td>\n",
       "      <td>0.0</td>\n",
       "      <td>0.0</td>\n",
       "      <td>0.0</td>\n",
       "      <td>0</td>\n",
       "      <td>0</td>\n",
       "      <td>118.0</td>\n",
       "      <td>92.0</td>\n",
       "      <td>...</td>\n",
       "      <td>1</td>\n",
       "      <td>0</td>\n",
       "      <td>3</td>\n",
       "      <td>0</td>\n",
       "      <td>0</td>\n",
       "      <td>3</td>\n",
       "      <td>0</td>\n",
       "      <td>92.0</td>\n",
       "      <td>0</td>\n",
       "      <td>0.0</td>\n",
       "    </tr>\n",
       "  </tbody>\n",
       "</table>\n",
       "<p>10 rows × 53 columns</p>\n",
       "</div>"
      ],
      "text/plain": [
       "    Current.age  Sex  Currently.has.asthma  Currently.has.thyroid.disorder  \\\n",
       "1            47    1                   0.0                             0.0   \n",
       "2            46    1                   1.0                             1.0   \n",
       "3            42    0                   0.0                             0.0   \n",
       "4            41    1                   0.0                             0.0   \n",
       "5            51    0                   0.0                             0.0   \n",
       "6            42    1                   0.0                             0.0   \n",
       "7            20    0                   0.0                             0.0   \n",
       "8            17    0                   0.0                             0.0   \n",
       "11           22    1                   0.0                             0.0   \n",
       "12           27    0                   0.0                             0.0   \n",
       "\n",
       "    Currently.has.heart.disease  Currently.has.cancer  Suffers.from.TB  \\\n",
       "1                           0.0                   0.0                0   \n",
       "2                           0.0                   0.0                0   \n",
       "3                           0.0                   0.0                0   \n",
       "4                           0.0                   0.0                0   \n",
       "5                           0.0                   0.0                0   \n",
       "6                           0.0                   0.0                0   \n",
       "7                           0.0                   0.0                0   \n",
       "8                           0.0                   0.0                0   \n",
       "11                          0.0                   0.0                0   \n",
       "12                          0.0                   0.0                0   \n",
       "\n",
       "    SBP_status  First.SYSTOLIC.reading  First.DIASTOLIC.reading  ...  \\\n",
       "1            0                   112.0                     74.0  ...   \n",
       "2            0                   120.0                     86.0  ...   \n",
       "3            0                   128.0                     74.0  ...   \n",
       "4            0                   117.0                     82.0  ...   \n",
       "5            0                   124.0                     88.0  ...   \n",
       "6            0                   112.0                     76.0  ...   \n",
       "7            0                   113.0                     60.0  ...   \n",
       "8            0                   115.0                     67.0  ...   \n",
       "11           0                   121.0                     72.0  ...   \n",
       "12           0                   118.0                     92.0  ...   \n",
       "\n",
       "    Has.motorcycle.scooter  Has.car.truck Type.of.cooking.fuel  \\\n",
       "1                        1              1                    3   \n",
       "2                        1              0                    3   \n",
       "3                        0              0                    4   \n",
       "4                        0              0                    4   \n",
       "5                        1              1                    3   \n",
       "6                        1              1                    3   \n",
       "7                        1              1                    3   \n",
       "8                        1              1                    3   \n",
       "11                       1              0                    3   \n",
       "12                       1              0                    3   \n",
       "\n",
       "    Household.structure Owns.livestock..herds.or.farm.animals  \\\n",
       "1                     0                                     0   \n",
       "2                     1                                     0   \n",
       "3                     0                                     0   \n",
       "4                     0                                     0   \n",
       "5                     1                                     0   \n",
       "6                     1                                     0   \n",
       "7                     1                                     0   \n",
       "8                     1                                     0   \n",
       "11                    0                                     0   \n",
       "12                    0                                     0   \n",
       "\n",
       "    Source.of.drinking.water  Time.to.get.to.water.source..minutes.  \\\n",
       "1                          3                                      0   \n",
       "2                          3                                      0   \n",
       "3                          3                                      0   \n",
       "4                          3                                      0   \n",
       "5                          3                                      0   \n",
       "6                          3                                      0   \n",
       "7                          3                                      0   \n",
       "8                          3                                      0   \n",
       "11                         3                                      0   \n",
       "12                         3                                      0   \n",
       "\n",
       "    Glucose.level  DM_status  DM_history  \n",
       "1            78.0          0         0.0  \n",
       "2            97.0          0         0.0  \n",
       "3           138.0          0         0.0  \n",
       "4           128.0          1         1.0  \n",
       "5           102.0          0         0.0  \n",
       "6           106.0          0         0.0  \n",
       "7            96.0          0         0.0  \n",
       "8            96.0          0         0.0  \n",
       "11          100.0          0         0.0  \n",
       "12           92.0          0         0.0  \n",
       "\n",
       "[10 rows x 53 columns]"
      ]
     },
     "execution_count": 3,
     "metadata": {},
     "output_type": "execute_result"
    }
   ],
   "source": [
    "data.head(10)"
   ]
  },
  {
   "cell_type": "code",
   "execution_count": 4,
   "metadata": {},
   "outputs": [],
   "source": [
    "data=data.drop([\"Hb_adjust_alt_smok\",\"Second.SYSTOLIC.reading\",\"Second.DIASTOLIC.reading\",\"Third.SYSTOLIC.reading\",\"Third.DIASTOLIC.reading\",\"Hb_status\",\"Glucose.level\",'SBP_status','DM_status'], axis=1)"
   ]
  },
  {
   "cell_type": "code",
   "execution_count": 5,
   "metadata": {},
   "outputs": [],
   "source": [
    "data=data.loc[data['BMI'] != 99.99]\n",
    "data=data.loc[data['Hemoglobin.level..g.dl...1.decimal.'] != 99.99]\n",
    "data=data.loc[data['Currently.has.asthma'] != .5]\n",
    "data=data.loc[data['Currently.has.thyroid.disorder'] != .5]\n",
    "data=data.loc[data['Currently.has.heart.disease'] != .5]\n",
    "data=data.loc[data['Currently.has.cancer'] != .5]\n",
    "data=data.loc[data['DM_history'] == 1]\n",
    "data=data.loc[data['Type.of.caste.or.tribe.of.the.household.head'] != 0]\n",
    "data=data.loc[data['Time.to.get.to.water.source..minutes.'] != -1]\n"
   ]
  },
  {
   "cell_type": "code",
   "execution_count": 6,
   "metadata": {},
   "outputs": [],
   "source": [
    "data=data.drop(['DM_history'], axis=1)"
   ]
  },
  {
   "cell_type": "code",
   "execution_count": 7,
   "metadata": {},
   "outputs": [
    {
     "data": {
      "text/html": [
       "<div>\n",
       "<style scoped>\n",
       "    .dataframe tbody tr th:only-of-type {\n",
       "        vertical-align: middle;\n",
       "    }\n",
       "\n",
       "    .dataframe tbody tr th {\n",
       "        vertical-align: top;\n",
       "    }\n",
       "\n",
       "    .dataframe thead th {\n",
       "        text-align: right;\n",
       "    }\n",
       "</style>\n",
       "<table border=\"1\" class=\"dataframe\">\n",
       "  <thead>\n",
       "    <tr style=\"text-align: right;\">\n",
       "      <th></th>\n",
       "      <th>Current.age</th>\n",
       "      <th>Sex</th>\n",
       "      <th>Currently.has.asthma</th>\n",
       "      <th>Currently.has.thyroid.disorder</th>\n",
       "      <th>Currently.has.heart.disease</th>\n",
       "      <th>Currently.has.cancer</th>\n",
       "      <th>Suffers.from.TB</th>\n",
       "      <th>First.SYSTOLIC.reading</th>\n",
       "      <th>First.DIASTOLIC.reading</th>\n",
       "      <th>Currently.taking.a.prescribed.medicine.to.lower.BP</th>\n",
       "      <th>...</th>\n",
       "      <th>Type.of.caste.or.tribe.of.the.household.head</th>\n",
       "      <th>Has.refrigerator</th>\n",
       "      <th>Has.bicycle</th>\n",
       "      <th>Has.motorcycle.scooter</th>\n",
       "      <th>Has.car.truck</th>\n",
       "      <th>Type.of.cooking.fuel</th>\n",
       "      <th>Household.structure</th>\n",
       "      <th>Owns.livestock..herds.or.farm.animals</th>\n",
       "      <th>Source.of.drinking.water</th>\n",
       "      <th>Time.to.get.to.water.source..minutes.</th>\n",
       "    </tr>\n",
       "  </thead>\n",
       "  <tbody>\n",
       "    <tr>\n",
       "      <td>4</td>\n",
       "      <td>41</td>\n",
       "      <td>1</td>\n",
       "      <td>0.0</td>\n",
       "      <td>0.0</td>\n",
       "      <td>0.0</td>\n",
       "      <td>0.0</td>\n",
       "      <td>0</td>\n",
       "      <td>117.0</td>\n",
       "      <td>82.0</td>\n",
       "      <td>0</td>\n",
       "      <td>...</td>\n",
       "      <td>2</td>\n",
       "      <td>1</td>\n",
       "      <td>0</td>\n",
       "      <td>0</td>\n",
       "      <td>0</td>\n",
       "      <td>4</td>\n",
       "      <td>0</td>\n",
       "      <td>0</td>\n",
       "      <td>3</td>\n",
       "      <td>0</td>\n",
       "    </tr>\n",
       "    <tr>\n",
       "      <td>53</td>\n",
       "      <td>38</td>\n",
       "      <td>1</td>\n",
       "      <td>0.0</td>\n",
       "      <td>0.0</td>\n",
       "      <td>0.0</td>\n",
       "      <td>0.0</td>\n",
       "      <td>0</td>\n",
       "      <td>138.0</td>\n",
       "      <td>90.0</td>\n",
       "      <td>1</td>\n",
       "      <td>...</td>\n",
       "      <td>4</td>\n",
       "      <td>1</td>\n",
       "      <td>0</td>\n",
       "      <td>1</td>\n",
       "      <td>0</td>\n",
       "      <td>3</td>\n",
       "      <td>0</td>\n",
       "      <td>1</td>\n",
       "      <td>3</td>\n",
       "      <td>0</td>\n",
       "    </tr>\n",
       "    <tr>\n",
       "      <td>59</td>\n",
       "      <td>47</td>\n",
       "      <td>1</td>\n",
       "      <td>0.0</td>\n",
       "      <td>0.0</td>\n",
       "      <td>0.0</td>\n",
       "      <td>0.0</td>\n",
       "      <td>0</td>\n",
       "      <td>124.0</td>\n",
       "      <td>90.0</td>\n",
       "      <td>0</td>\n",
       "      <td>...</td>\n",
       "      <td>1</td>\n",
       "      <td>1</td>\n",
       "      <td>1</td>\n",
       "      <td>1</td>\n",
       "      <td>1</td>\n",
       "      <td>3</td>\n",
       "      <td>0</td>\n",
       "      <td>0</td>\n",
       "      <td>3</td>\n",
       "      <td>0</td>\n",
       "    </tr>\n",
       "    <tr>\n",
       "      <td>81</td>\n",
       "      <td>49</td>\n",
       "      <td>1</td>\n",
       "      <td>0.0</td>\n",
       "      <td>0.0</td>\n",
       "      <td>0.0</td>\n",
       "      <td>0.0</td>\n",
       "      <td>0</td>\n",
       "      <td>138.0</td>\n",
       "      <td>88.0</td>\n",
       "      <td>1</td>\n",
       "      <td>...</td>\n",
       "      <td>2</td>\n",
       "      <td>1</td>\n",
       "      <td>0</td>\n",
       "      <td>1</td>\n",
       "      <td>1</td>\n",
       "      <td>3</td>\n",
       "      <td>0</td>\n",
       "      <td>0</td>\n",
       "      <td>3</td>\n",
       "      <td>0</td>\n",
       "    </tr>\n",
       "    <tr>\n",
       "      <td>120</td>\n",
       "      <td>26</td>\n",
       "      <td>1</td>\n",
       "      <td>0.0</td>\n",
       "      <td>0.0</td>\n",
       "      <td>0.0</td>\n",
       "      <td>0.0</td>\n",
       "      <td>0</td>\n",
       "      <td>112.0</td>\n",
       "      <td>69.0</td>\n",
       "      <td>0</td>\n",
       "      <td>...</td>\n",
       "      <td>2</td>\n",
       "      <td>1</td>\n",
       "      <td>0</td>\n",
       "      <td>1</td>\n",
       "      <td>1</td>\n",
       "      <td>1</td>\n",
       "      <td>0</td>\n",
       "      <td>0</td>\n",
       "      <td>3</td>\n",
       "      <td>0</td>\n",
       "    </tr>\n",
       "    <tr>\n",
       "      <td>142</td>\n",
       "      <td>47</td>\n",
       "      <td>1</td>\n",
       "      <td>0.0</td>\n",
       "      <td>0.0</td>\n",
       "      <td>0.0</td>\n",
       "      <td>0.0</td>\n",
       "      <td>0</td>\n",
       "      <td>111.0</td>\n",
       "      <td>79.0</td>\n",
       "      <td>0</td>\n",
       "      <td>...</td>\n",
       "      <td>4</td>\n",
       "      <td>1</td>\n",
       "      <td>0</td>\n",
       "      <td>1</td>\n",
       "      <td>1</td>\n",
       "      <td>3</td>\n",
       "      <td>1</td>\n",
       "      <td>0</td>\n",
       "      <td>3</td>\n",
       "      <td>0</td>\n",
       "    </tr>\n",
       "    <tr>\n",
       "      <td>175</td>\n",
       "      <td>44</td>\n",
       "      <td>1</td>\n",
       "      <td>0.0</td>\n",
       "      <td>0.0</td>\n",
       "      <td>0.0</td>\n",
       "      <td>0.0</td>\n",
       "      <td>0</td>\n",
       "      <td>156.0</td>\n",
       "      <td>106.0</td>\n",
       "      <td>0</td>\n",
       "      <td>...</td>\n",
       "      <td>4</td>\n",
       "      <td>0</td>\n",
       "      <td>0</td>\n",
       "      <td>1</td>\n",
       "      <td>1</td>\n",
       "      <td>3</td>\n",
       "      <td>1</td>\n",
       "      <td>0</td>\n",
       "      <td>3</td>\n",
       "      <td>0</td>\n",
       "    </tr>\n",
       "    <tr>\n",
       "      <td>189</td>\n",
       "      <td>46</td>\n",
       "      <td>1</td>\n",
       "      <td>0.0</td>\n",
       "      <td>0.0</td>\n",
       "      <td>0.0</td>\n",
       "      <td>0.0</td>\n",
       "      <td>0</td>\n",
       "      <td>139.0</td>\n",
       "      <td>91.0</td>\n",
       "      <td>0</td>\n",
       "      <td>...</td>\n",
       "      <td>1</td>\n",
       "      <td>1</td>\n",
       "      <td>0</td>\n",
       "      <td>1</td>\n",
       "      <td>0</td>\n",
       "      <td>3</td>\n",
       "      <td>1</td>\n",
       "      <td>0</td>\n",
       "      <td>3</td>\n",
       "      <td>0</td>\n",
       "    </tr>\n",
       "    <tr>\n",
       "      <td>192</td>\n",
       "      <td>40</td>\n",
       "      <td>1</td>\n",
       "      <td>0.0</td>\n",
       "      <td>0.0</td>\n",
       "      <td>0.0</td>\n",
       "      <td>0.0</td>\n",
       "      <td>0</td>\n",
       "      <td>86.0</td>\n",
       "      <td>52.0</td>\n",
       "      <td>0</td>\n",
       "      <td>...</td>\n",
       "      <td>2</td>\n",
       "      <td>1</td>\n",
       "      <td>0</td>\n",
       "      <td>1</td>\n",
       "      <td>0</td>\n",
       "      <td>3</td>\n",
       "      <td>1</td>\n",
       "      <td>1</td>\n",
       "      <td>3</td>\n",
       "      <td>0</td>\n",
       "    </tr>\n",
       "    <tr>\n",
       "      <td>197</td>\n",
       "      <td>40</td>\n",
       "      <td>1</td>\n",
       "      <td>0.0</td>\n",
       "      <td>0.0</td>\n",
       "      <td>0.0</td>\n",
       "      <td>0.0</td>\n",
       "      <td>0</td>\n",
       "      <td>128.0</td>\n",
       "      <td>89.0</td>\n",
       "      <td>1</td>\n",
       "      <td>...</td>\n",
       "      <td>4</td>\n",
       "      <td>1</td>\n",
       "      <td>0</td>\n",
       "      <td>1</td>\n",
       "      <td>0</td>\n",
       "      <td>3</td>\n",
       "      <td>1</td>\n",
       "      <td>0</td>\n",
       "      <td>3</td>\n",
       "      <td>0</td>\n",
       "    </tr>\n",
       "  </tbody>\n",
       "</table>\n",
       "<p>10 rows × 43 columns</p>\n",
       "</div>"
      ],
      "text/plain": [
       "     Current.age  Sex  Currently.has.asthma  Currently.has.thyroid.disorder  \\\n",
       "4             41    1                   0.0                             0.0   \n",
       "53            38    1                   0.0                             0.0   \n",
       "59            47    1                   0.0                             0.0   \n",
       "81            49    1                   0.0                             0.0   \n",
       "120           26    1                   0.0                             0.0   \n",
       "142           47    1                   0.0                             0.0   \n",
       "175           44    1                   0.0                             0.0   \n",
       "189           46    1                   0.0                             0.0   \n",
       "192           40    1                   0.0                             0.0   \n",
       "197           40    1                   0.0                             0.0   \n",
       "\n",
       "     Currently.has.heart.disease  Currently.has.cancer  Suffers.from.TB  \\\n",
       "4                            0.0                   0.0                0   \n",
       "53                           0.0                   0.0                0   \n",
       "59                           0.0                   0.0                0   \n",
       "81                           0.0                   0.0                0   \n",
       "120                          0.0                   0.0                0   \n",
       "142                          0.0                   0.0                0   \n",
       "175                          0.0                   0.0                0   \n",
       "189                          0.0                   0.0                0   \n",
       "192                          0.0                   0.0                0   \n",
       "197                          0.0                   0.0                0   \n",
       "\n",
       "     First.SYSTOLIC.reading  First.DIASTOLIC.reading  \\\n",
       "4                     117.0                     82.0   \n",
       "53                    138.0                     90.0   \n",
       "59                    124.0                     90.0   \n",
       "81                    138.0                     88.0   \n",
       "120                   112.0                     69.0   \n",
       "142                   111.0                     79.0   \n",
       "175                   156.0                    106.0   \n",
       "189                   139.0                     91.0   \n",
       "192                    86.0                     52.0   \n",
       "197                   128.0                     89.0   \n",
       "\n",
       "     Currently.taking.a.prescribed.medicine.to.lower.BP  ...  \\\n",
       "4                                                    0   ...   \n",
       "53                                                   1   ...   \n",
       "59                                                   0   ...   \n",
       "81                                                   1   ...   \n",
       "120                                                  0   ...   \n",
       "142                                                  0   ...   \n",
       "175                                                  0   ...   \n",
       "189                                                  0   ...   \n",
       "192                                                  0   ...   \n",
       "197                                                  1   ...   \n",
       "\n",
       "     Type.of.caste.or.tribe.of.the.household.head  Has.refrigerator  \\\n",
       "4                                               2                 1   \n",
       "53                                              4                 1   \n",
       "59                                              1                 1   \n",
       "81                                              2                 1   \n",
       "120                                             2                 1   \n",
       "142                                             4                 1   \n",
       "175                                             4                 0   \n",
       "189                                             1                 1   \n",
       "192                                             2                 1   \n",
       "197                                             4                 1   \n",
       "\n",
       "     Has.bicycle  Has.motorcycle.scooter  Has.car.truck  Type.of.cooking.fuel  \\\n",
       "4              0                       0              0                     4   \n",
       "53             0                       1              0                     3   \n",
       "59             1                       1              1                     3   \n",
       "81             0                       1              1                     3   \n",
       "120            0                       1              1                     1   \n",
       "142            0                       1              1                     3   \n",
       "175            0                       1              1                     3   \n",
       "189            0                       1              0                     3   \n",
       "192            0                       1              0                     3   \n",
       "197            0                       1              0                     3   \n",
       "\n",
       "     Household.structure  Owns.livestock..herds.or.farm.animals  \\\n",
       "4                      0                                      0   \n",
       "53                     0                                      1   \n",
       "59                     0                                      0   \n",
       "81                     0                                      0   \n",
       "120                    0                                      0   \n",
       "142                    1                                      0   \n",
       "175                    1                                      0   \n",
       "189                    1                                      0   \n",
       "192                    1                                      1   \n",
       "197                    1                                      0   \n",
       "\n",
       "     Source.of.drinking.water  Time.to.get.to.water.source..minutes.  \n",
       "4                           3                                      0  \n",
       "53                          3                                      0  \n",
       "59                          3                                      0  \n",
       "81                          3                                      0  \n",
       "120                         3                                      0  \n",
       "142                         3                                      0  \n",
       "175                         3                                      0  \n",
       "189                         3                                      0  \n",
       "192                         3                                      0  \n",
       "197                         3                                      0  \n",
       "\n",
       "[10 rows x 43 columns]"
      ]
     },
     "execution_count": 7,
     "metadata": {},
     "output_type": "execute_result"
    }
   ],
   "source": [
    "data.head(10)"
   ]
  },
  {
   "cell_type": "markdown",
   "metadata": {},
   "source": [
    "## Adding a new feature 'Hypertension' "
   ]
  },
  {
   "cell_type": "markdown",
   "metadata": {},
   "source": [
    "A new feature 'HTN' (for Hypertension) was added calculated from 3 related features. These three features are then removed"
   ]
  },
  {
   "cell_type": "code",
   "execution_count": 8,
   "metadata": {},
   "outputs": [],
   "source": [
    "data=data.reset_index(drop=True)\n",
    "HTN_indexes=data.loc[(data['Currently.taking.a.prescribed.medicine.to.lower.BP'] != 0) | (data['First.SYSTOLIC.reading'] >= 140) | (data['First.DIASTOLIC.reading'] >= 90) ].index.values\n",
    "HTN_cols=np.zeros(data.shape[0])\n",
    "HTN_cols[[HTN_indexes]]=1"
   ]
  },
  {
   "cell_type": "code",
   "execution_count": 9,
   "metadata": {},
   "outputs": [],
   "source": [
    "data['HTN']=HTN_cols"
   ]
  },
  {
   "cell_type": "code",
   "execution_count": 10,
   "metadata": {},
   "outputs": [],
   "source": [
    "data=data.drop([\"First.SYSTOLIC.reading\",\"First.DIASTOLIC.reading\",\"Currently.taking.a.prescribed.medicine.to.lower.BP\"], axis=1)"
   ]
  },
  {
   "cell_type": "code",
   "execution_count": 11,
   "metadata": {},
   "outputs": [],
   "source": [
    "data=data.reset_index(drop=True)"
   ]
  },
  {
   "cell_type": "code",
   "execution_count": 12,
   "metadata": {
    "scrolled": true
   },
   "outputs": [
    {
     "data": {
      "text/plain": [
       "Index(['Current.age', 'Sex', 'Currently.has.asthma',\n",
       "       'Currently.has.thyroid.disorder', 'Currently.has.heart.disease',\n",
       "       'Currently.has.cancer', 'Suffers.from.TB', 'BMI',\n",
       "       'Hemoglobin.level..g.dl...1.decimal.', 'Frequency.takes.milk.or.curd',\n",
       "       'Frequency.eats.pulses.or.beans',\n",
       "       'Frequency.eats.dark.green.leafy.vegetable', 'Frequency.eats.fruits',\n",
       "       'Frequency.eats.eggs', 'Frequency.eats.fish',\n",
       "       'Frequency.eats.chicken.or.meat', 'Frequency.eats.fried.food',\n",
       "       'Frequency.takes.aerated.drinks', 'Drinks.alcohol',\n",
       "       'Type.of.alcohol.usually.consumed..Tadi.madi',\n",
       "       'Type.of.alcohol.usually.consumed..country.liquor',\n",
       "       'Type.of.alcohol.usually.consumed..beer',\n",
       "       'Type.of.alcohol.usually.consumed..wine',\n",
       "       'Type.of.alcohol.usually.consumed..hard.liquor', 'Smoking_stat',\n",
       "       'Frequency.household.members.smoke.inside.the.house',\n",
       "       'Type.of.place.of.residence', 'Wealth.index',\n",
       "       'Highest.educational.level', 'Household.head.s.religion',\n",
       "       'Type.of.caste.or.tribe.of.the.household.head', 'Has.refrigerator',\n",
       "       'Has.bicycle', 'Has.motorcycle.scooter', 'Has.car.truck',\n",
       "       'Type.of.cooking.fuel', 'Household.structure',\n",
       "       'Owns.livestock..herds.or.farm.animals', 'Source.of.drinking.water',\n",
       "       'Time.to.get.to.water.source..minutes.', 'HTN'],\n",
       "      dtype='object')"
      ]
     },
     "execution_count": 12,
     "metadata": {},
     "output_type": "execute_result"
    }
   ],
   "source": [
    "data.columns"
   ]
  },
  {
   "cell_type": "markdown",
   "metadata": {},
   "source": [
    "Feature-wise tags for discrete features used in the analysis:\n",
    "- 'Household.head.s.religion': {\"Hindu\": 0, \"Muslim\": 1, 'Christian': 2, 'Sikh': 3, 'Buddhist/Neo-Buddhist': 3, 'other': 3, 'Jain': 3, 'No religion': 3, 'Parsi/Zoroastrian': 3, 'Jewish': 3}   \n",
    "- 'Type.of.caste.or.tribe.of.the.household.head': {\"Don't know\": 0, \"Other Backward Class\": 1, 'Scheduled caste': 2, 'Scheduled tribe': 3, 'None of above': 4}\n",
    "- \"Has.refrigerator\": {\"Yes\": 1, \"No\": 0}\n",
    "- \"Has.bicycle\": {\"Yes\": 1, \"No\": 0}\n",
    "- 'Has.motorcycle.scooter': {\"Yes\": 1, \"No\": 0}\n",
    "- 'Has.car.truck': {\"Yes\": 1, \"No\": 0}\n",
    "- 'Type.of.cooking.fuel': {\"Wood\": 1, 'Straw/shrubs/grass': 1, 'Agricultural crop': 2, \"Animal dung\": 2, 'Coal, lignite': 2       , 'Charcoal': 2, 'Kerosene': 3, 'LPG, natural gas': 3, 'Biogas': 3,'Electricity': 4, 'Other': 0, 'No food cooked in house': 0}\n",
    "- 'Household.structure': {\"Non-nuclear\": 0, \"Nuclear\": 1}\n",
    "- 'Owns.livestock..herds.or.farm.animals': {\"Yes\": 1, \"No\": 0}\n",
    "- 'Source.of.drinking.water': {\"Rainwater\": 1, 'Unprotected spring': 1, 'Unprotected well': 1, 'River/dam/lake/ponds/stream/canal/irrigation channel': 1, \"Cart with small tank\": 2, 'Protected well': 2, 'Tanker truck': 2, 'Protected spring': 2, 'Tube well or borehole': 2, 'Community RO Plant': 3, 'Piped into dwelling': 3, 'Public tap/standpipe': 3, 'Piped to yard/plot': 3, 'Bottled water': 4, 'Other': 0}\n",
    "- \"Sex\": {\"Female\": 1, \"Male\": 0}\n",
    "- \"Currently.taking.a.prescribed.medicine.to.lower.BP\": {\"Yes\": 1, \"No\": 0}\n",
    "- \"Currently.has.asthma\": {\"Yes\": 1, \"Don't know\": 0.5 ,\"No\": 0}\n",
    "- \"Currently.has.thyroid.disorder\": {\"Yes\": 1, \"Don't know\": 0.5 ,\"No\": 0}\n",
    "- \"Currently.has.heart.disease\": {\"Yes\": 1, \"Don't know\": 0.5 ,\"No\": 0}\n",
    "- \"Currently.has.cancer\": {\"Yes\": 1, \"Don't know\": 0.5 ,\"No\": 0}\n",
    "- \"Hb_status\": {\"Normal\": 0, \"Mild Anaemia\": 1, \"Moderate Anaemia\": 2, \"Severe Anaemia\": 3 }\n",
    "- \"Suffers.from.TB\": {\"Not listed as suffering from TB\": 0, \"Yes\": 1}\n",
    "- \"Frequency.takes.milk.or.curd\": {\"Never\": 0, \"Occasionally\": 1 ,\"Weekly\": 2, \"Daily\": 3 }\n",
    "- \"Frequency.eats.pulses.or.beans\": {\"Never\": 0, \"Occasionally\": 1 ,\"Weekly\": 2, \"Daily\": 3 }\n",
    "- \"Frequency.eats.dark.green.leafy.vegetable\": {\"Never\": 0, \"Occasionally\": 1 ,\"Weekly\": 2, \"Daily\": 3 }\n",
    "- \"Frequency.eats.fruits\": {\"Never\": 0, \"Occasionally\": 1 ,\"Weekly\": 2, \"Daily\": 3 }\n",
    "- \"Frequency.eats.fish\": {\"Never\": 0, \"Occasionally\": 1 ,\"Weekly\": 2, \"Daily\": 3 }\n",
    "- \"Frequency.eats.eggs\": {\"Never\": 0, \"Occasionally\": 1 ,\"Weekly\": 2, \"Daily\": 3 }\n",
    "- \"Frequency.eats.chicken.or.meat\": {\"Never\": 0, \"Occasionally\": 1 ,\"Weekly\": 2, \"Daily\": 3 }\n",
    "- \"Frequency.eats.fried.food\": {\"Never\": 0, \"Occasionally\": 1 ,\"Weekly\": 2, \"Daily\": 3 }\n",
    "- \"Frequency.takes.aerated.drinks\": {\"Never\": 0, \"Occasionally\": 1 ,\"Weekly\": 2, \"Daily\": 3}\n",
    "- \"Drinks.alcohol\": {\"Yes\": 1, \"No\": 0}\n",
    "- \"Type.of.place.of.residence\": {\"Rural\": 1, \"Urban\": 0}\n",
    "- \"Highest.educational.level\": {\"No education\": 0, \"Primary\": 1 ,\"Secondary\": 2, \"Higher\": 3 }\n",
    "- \"Frequency.household.members.smoke.inside.the.house\": {\"Never\": 0, \"Weekly\": 1, \"Less than monthly\": 2,\"Monthly\": 3, \"Daily\": 4 }\n",
    "- \"Smoking_stat\": {\"Non-smoker\": 0, \"Smoker\": 1}\n",
    "- 'Wealth.index': {'Poorest':0,\"Poorer\": 1, \"Middle\": 2 ,\"Richer\": 3, \"Richest\": 4}"
   ]
  },
  {
   "cell_type": "markdown",
   "metadata": {},
   "source": [
    "## Dividing data types"
   ]
  },
  {
   "cell_type": "markdown",
   "metadata": {},
   "source": [
    "- bf=ordinal discrete features\n",
    "- cf=continuous features\n",
    "- dnbf= nominal discrete features"
   ]
  },
  {
   "cell_type": "code",
   "execution_count": 13,
   "metadata": {},
   "outputs": [],
   "source": [
    "data_bf=data[[ 'Currently.has.asthma',\n",
    "       'Currently.has.thyroid.disorder', 'Currently.has.heart.disease',\n",
    "       'Currently.has.cancer', 'Suffers.from.TB','HTN','Drinks.alcohol', 'Smoking_stat','Has.refrigerator',\n",
    "       'Has.bicycle', 'Has.motorcycle.scooter', 'Has.car.truck', 'Owns.livestock..herds.or.farm.animals','Frequency.takes.milk.or.curd',\n",
    "       'Frequency.eats.pulses.or.beans',\n",
    "       'Frequency.eats.dark.green.leafy.vegetable', 'Frequency.eats.fruits',\n",
    "       'Frequency.eats.eggs', 'Frequency.eats.fish',\n",
    "       'Frequency.eats.chicken.or.meat', 'Frequency.eats.fried.food',\n",
    "       'Frequency.takes.aerated.drinks','Frequency.household.members.smoke.inside.the.house','Wealth.index',\n",
    "       'Highest.educational.level' ]]"
   ]
  },
  {
   "cell_type": "code",
   "execution_count": 14,
   "metadata": {},
   "outputs": [],
   "source": [
    "data_cf=data[['Current.age','BMI','Hemoglobin.level..g.dl...1.decimal.','Time.to.get.to.water.source..minutes.']]"
   ]
  },
  {
   "cell_type": "code",
   "execution_count": 15,
   "metadata": {},
   "outputs": [],
   "source": [
    "data_dnbf=data[['Household.head.s.religion', 'Sex', 'Type.of.place.of.residence', 'Household.structure',\n",
    "       'Type.of.caste.or.tribe.of.the.household.head','Type.of.cooking.fuel','Source.of.drinking.water']]"
   ]
  },
  {
   "cell_type": "code",
   "execution_count": 16,
   "metadata": {},
   "outputs": [],
   "source": [
    "data_all= data[['Currently.has.asthma',\n",
    "       'Currently.has.thyroid.disorder', 'Currently.has.heart.disease',\n",
    "       'Currently.has.cancer', 'Suffers.from.TB','HTN','Drinks.alcohol', 'Smoking_stat','Has.refrigerator',\n",
    "       'Has.bicycle', 'Has.motorcycle.scooter', 'Has.car.truck', 'Owns.livestock..herds.or.farm.animals','Frequency.takes.milk.or.curd',\n",
    "       'Frequency.eats.pulses.or.beans',\n",
    "       'Frequency.eats.dark.green.leafy.vegetable', 'Frequency.eats.fruits',\n",
    "       'Frequency.eats.eggs', 'Frequency.eats.fish',\n",
    "       'Frequency.eats.chicken.or.meat', 'Frequency.eats.fried.food',\n",
    "       'Frequency.takes.aerated.drinks','Frequency.household.members.smoke.inside.the.house','Wealth.index',\n",
    "       'Highest.educational.level', 'Current.age','BMI','Hemoglobin.level..g.dl...1.decimal.','Time.to.get.to.water.source..minutes.', 'Household.head.s.religion', 'Sex', 'Type.of.place.of.residence', 'Household.structure',\n",
    "       'Type.of.caste.or.tribe.of.the.household.head','Type.of.cooking.fuel','Source.of.drinking.water']]"
   ]
  },
  {
   "cell_type": "markdown",
   "metadata": {},
   "source": [
    "# Clustering paradigm"
   ]
  },
  {
   "cell_type": "markdown",
   "metadata": {},
   "source": [
    "- Performing an UMAP with all the features using euclidean metric\n",
    "- One major cluster with many minor clusters"
   ]
  },
  {
   "cell_type": "code",
   "execution_count": 17,
   "metadata": {},
   "outputs": [],
   "source": [
    "data_embedded = umap.UMAP(n_neighbors=30, min_dist=0.1, n_components=2, metric='euclidean', random_state=42).fit_transform(data_all)\n",
    "data_embedded[:,0]=(data_embedded[:,0]- np.mean(data_embedded[:,0]))/np.std(data_embedded[:,0])\n",
    "data_embedded[:,1]=(data_embedded[:,1]- np.mean(data_embedded[:,1]))/np.std(data_embedded[:,1])\n",
    "result = pd.DataFrame(data = data_embedded , \n",
    "        columns = ['UMAP_0', 'UMAP_1'])"
   ]
  },
  {
   "cell_type": "code",
   "execution_count": 18,
   "metadata": {},
   "outputs": [
    {
     "data": {
      "image/png": "[encoded data removed]",
      "text/plain": [
       "<Figure size 360x360 with 1 Axes>"
      ]
     },
     "metadata": {
      "needs_background": "light"
     },
     "output_type": "display_data"
    }
   ],
   "source": [
    "sns.lmplot( x=\"UMAP_0\", y=\"UMAP_1\",\n",
    "  data=result, \n",
    "  fit_reg=False, \n",
    "  legend=False,  \n",
    "  scatter_kws={\"s\": 3},palette=\"Set1\") # specify the point size\n",
    "plt.savefig('clusters_umap_all.png', dpi=700, bbox_inches='tight')"
   ]
  },
  {
   "cell_type": "markdown",
   "metadata": {},
   "source": [
    "## For ordinal features we use canberra metric"
   ]
  },
  {
   "cell_type": "code",
   "execution_count": 19,
   "metadata": {},
   "outputs": [],
   "source": [
    "data_embedded = umap.UMAP(n_neighbors=30, min_dist=0.1, n_components=2, metric='canberra', random_state=42).fit_transform(data_bf)\n",
    "data_embedded[:,0]=(data_embedded[:,0]- np.mean(data_embedded[:,0]))/np.std(data_embedded[:,0])\n",
    "data_embedded[:,1]=(data_embedded[:,1]- np.mean(data_embedded[:,1]))/np.std(data_embedded[:,1])\n",
    "result_bf = pd.DataFrame(data = data_embedded , \n",
    "        columns = ['UMAP_0_of', 'UMAP_1_of'])"
   ]
  },
  {
   "cell_type": "code",
   "execution_count": 20,
   "metadata": {},
   "outputs": [
    {
     "data": {
      "image/png": "[encoded data removed]",
      "text/plain": [
       "<Figure size 360x360 with 1 Axes>"
      ]
     },
     "metadata": {
      "needs_background": "light"
     },
     "output_type": "display_data"
    }
   ],
   "source": [
    "sns.lmplot( x=\"UMAP_0_of\", y=\"UMAP_1_of\",\n",
    "  data=result_bf, \n",
    "  fit_reg=False, \n",
    "  legend=False,\n",
    "  scatter_kws={\"s\": 3},palette=\"Set1\") # specify the point size\n",
    "plt.savefig('clusters_umap_of.png', dpi=700, bbox_inches='tight')"
   ]
  },
  {
   "cell_type": "markdown",
   "metadata": {},
   "source": [
    "## For continuous features we use eulcidean metric"
   ]
  },
  {
   "cell_type": "code",
   "execution_count": 21,
   "metadata": {},
   "outputs": [],
   "source": [
    "data_embedded = umap.UMAP(n_neighbors=30, min_dist=0.1, n_components=2, metric='euclidean', random_state=42).fit_transform(data_cf)\n",
    "data_embedded.shape\n",
    "data_embedded[:,0]=(data_embedded[:,0]- np.mean(data_embedded[:,0]))/np.std(data_embedded[:,0])\n",
    "data_embedded[:,1]=(data_embedded[:,1]- np.mean(data_embedded[:,1]))/np.std(data_embedded[:,1])\n",
    "result_cf = pd.DataFrame(data = data_embedded , \n",
    "        columns = ['UMAP_0_cf', 'UMAP_1_cf'])"
   ]
  },
  {
   "cell_type": "code",
   "execution_count": 22,
   "metadata": {},
   "outputs": [
    {
     "data": {
      "image/png": "[encoded data removed]",
      "text/plain": [
       "<Figure size 360x360 with 1 Axes>"
      ]
     },
     "metadata": {
      "needs_background": "light"
     },
     "output_type": "display_data"
    }
   ],
   "source": [
    "sns.lmplot( x=\"UMAP_0_cf\", y=\"UMAP_1_cf\",\n",
    "  data=result_cf, \n",
    "  fit_reg=False, \n",
    "  legend=False,\n",
    "  scatter_kws={\"s\": 3},palette=\"Set1\") # specify the point size\n",
    "plt.savefig('clusters_umap_cf.png', dpi=700, bbox_inches='tight')"
   ]
  },
  {
   "cell_type": "markdown",
   "metadata": {},
   "source": [
    "## For nominal features we use hamming metric"
   ]
  },
  {
   "cell_type": "code",
   "execution_count": 23,
   "metadata": {},
   "outputs": [],
   "source": [
    "data_embedded = umap.UMAP(n_neighbors=30, min_dist=0.1, n_components=2, metric='hamming', random_state=42).fit_transform(data_dnbf)\n",
    "data_embedded.shape\n",
    "data_embedded[:,0]=(data_embedded[:,0]- np.mean(data_embedded[:,0]))/np.std(data_embedded[:,0])\n",
    "data_embedded[:,1]=(data_embedded[:,1]- np.mean(data_embedded[:,1]))/np.std(data_embedded[:,1])\n",
    "result_dnbf = pd.DataFrame(data = data_embedded , \n",
    "        columns = ['UMAP_0_nf', 'UMAP_1_nf'])"
   ]
  },
  {
   "cell_type": "code",
   "execution_count": 24,
   "metadata": {},
   "outputs": [
    {
     "data": {
      "image/png": "[encoded data removed]",
      "text/plain": [
       "<Figure size 360x360 with 1 Axes>"
      ]
     },
     "metadata": {
      "needs_background": "light"
     },
     "output_type": "display_data"
    }
   ],
   "source": [
    "sns.lmplot( x=\"UMAP_0_nf\", y=\"UMAP_1_nf\",\n",
    "  data=result_dnbf, \n",
    "  fit_reg=False, \n",
    "  legend=False,\n",
    "  scatter_kws={\"s\": 3},palette=\"Set1\") # specify the point size\n",
    "plt.savefig('clusters_umap_nf.png', dpi=700, bbox_inches='tight')"
   ]
  },
  {
   "cell_type": "markdown",
   "metadata": {},
   "source": [
    "Now we choose top two UMAP reduced dimensions for continuous and ordinal features and top one UMAP reduced dimension for nominal features. Thus we get a five dimensional representation of the data. "
   ]
  },
  {
   "cell_type": "code",
   "execution_count": 25,
   "metadata": {},
   "outputs": [],
   "source": [
    "result=pd.concat([result_bf, result_cf, result_dnbf.drop(['UMAP_1_nf'],axis=1)],axis=1)"
   ]
  },
  {
   "cell_type": "markdown",
   "metadata": {},
   "source": [
    "## Reducing the 5 dimensional representation to two dimensions to observe clusters"
   ]
  },
  {
   "cell_type": "code",
   "execution_count": 26,
   "metadata": {},
   "outputs": [],
   "source": [
    "data_embedded = umap.UMAP(n_neighbors=30, min_dist=0.001, n_components=2, metric='euclidean', random_state=42).fit_transform(result.as_matrix())\n",
    "data_embedded.shape\n",
    "result = pd.DataFrame(data = data_embedded , \n",
    "        columns = ['UMAP_0', 'UMAP_1'])"
   ]
  },
  {
   "cell_type": "code",
   "execution_count": 27,
   "metadata": {},
   "outputs": [
    {
     "data": {
      "image/png": "[encoded data removed]",
      "text/plain": [
       "<Figure size 360x360 with 1 Axes>"
      ]
     },
     "metadata": {
      "needs_background": "light"
     },
     "output_type": "display_data"
    }
   ],
   "source": [
    "sns.lmplot( x=\"UMAP_0\", y=\"UMAP_1\",\n",
    "  data=result, \n",
    "  fit_reg=False, \n",
    "  legend=False,\n",
    "  scatter_kws={\"s\": 3},palette=\"Set1\") # specify the point size\n",
    "plt.savefig('clusters_umap_int.png', dpi=700, bbox_inches='tight')"
   ]
  },
  {
   "cell_type": "code",
   "execution_count": 28,
   "metadata": {},
   "outputs": [],
   "source": [
    "result_mat=result.as_matrix()"
   ]
  },
  {
   "cell_type": "markdown",
   "metadata": {},
   "source": [
    "## Extracting clusters using DBSCAN"
   ]
  },
  {
   "cell_type": "code",
   "execution_count": 29,
   "metadata": {},
   "outputs": [],
   "source": [
    "dbscan = DBSCAN(eps=1.1, min_samples = 200)\n",
    "clusters=dbscan.fit_predict(result.as_matrix())\n",
    "(values,counts) = np.unique(clusters,return_counts=True)"
   ]
  },
  {
   "cell_type": "code",
   "execution_count": 30,
   "metadata": {},
   "outputs": [
    {
     "data": {
      "text/plain": [
       "array([ 263, 2898, 2301,  228, 2226, 1315,  290,  243,  361], dtype=int64)"
      ]
     },
     "execution_count": 30,
     "metadata": {},
     "output_type": "execute_result"
    }
   ],
   "source": [
    "counts"
   ]
  },
  {
   "cell_type": "code",
   "execution_count": 31,
   "metadata": {},
   "outputs": [],
   "source": [
    "result['Cluster'] = clusters"
   ]
  },
  {
   "cell_type": "code",
   "execution_count": 32,
   "metadata": {},
   "outputs": [
    {
     "data": {
      "image/png": "[encoded data removed]",
      "text/plain": [
       "<Figure size 406x360 with 1 Axes>"
      ]
     },
     "metadata": {
      "needs_background": "light"
     },
     "output_type": "display_data"
    }
   ],
   "source": [
    "sns.lmplot( x=\"UMAP_0\", y=\"UMAP_1\",\n",
    "  data=result, \n",
    "  fit_reg=False, \n",
    "  legend=True,\n",
    "  hue='Cluster', # color by cluster\n",
    "  scatter_kws={\"s\": 3},palette=\"Set1\") # specify the point size\n",
    "plt.savefig('clusters_umap_fin.png', dpi=700, bbox_inches='tight')"
   ]
  },
  {
   "cell_type": "code",
   "execution_count": 33,
   "metadata": {},
   "outputs": [],
   "source": [
    "data['Clusters']=clusters"
   ]
  },
  {
   "cell_type": "code",
   "execution_count": 34,
   "metadata": {},
   "outputs": [],
   "source": [
    "data.to_csv('clusters.csv',index=False)"
   ]
  },
  {
   "cell_type": "code",
   "execution_count": 35,
   "metadata": {},
   "outputs": [
    {
     "data": {
      "text/plain": [
       "array([-1,  0,  1,  2,  3,  4,  5,  6,  7], dtype=int64)"
      ]
     },
     "execution_count": 35,
     "metadata": {},
     "output_type": "execute_result"
    }
   ],
   "source": [
    "values"
   ]
  },
  {
   "cell_type": "code",
   "execution_count": 36,
   "metadata": {},
   "outputs": [
    {
     "data": {
      "text/plain": [
       "array([ 263, 2898, 2301,  228, 2226, 1315,  290,  243,  361], dtype=int64)"
      ]
     },
     "execution_count": 36,
     "metadata": {},
     "output_type": "execute_result"
    }
   ],
   "source": [
    "counts"
   ]
  },
  {
   "cell_type": "code",
   "execution_count": 37,
   "metadata": {},
   "outputs": [
    {
     "data": {
      "image/png": "[encoded data removed]",
      "text/plain": [
       "<Figure size 432x288 with 1 Axes>"
      ]
     },
     "metadata": {
      "needs_background": "light"
     },
     "output_type": "display_data"
    }
   ],
   "source": [
    "plt.bar(values,counts,tick_label=values,color='r')\n",
    "plt.xlabel('Clusters')\n",
    "plt.ylabel('Number of patients')\n",
    "plt.title('Distribution of clusters')\n",
    "plt.savefig('cluster_dist.png', dpi=1000, bbox_inches='tight')"
   ]
  },
  {
   "cell_type": "code",
   "execution_count": null,
   "metadata": {},
   "outputs": [],
   "source": []
  }
 ],
 "metadata": {
  "kernelspec": {
   "display_name": "Python 3",
   "language": "python",
   "name": "python3"
  },
  "language_info": {
   "codemirror_mode": {
    "name": "ipython",
    "version": 3
   },
   "file_extension": ".py",
   "mimetype": "text/x-python",
   "name": "python",
   "nbconvert_exporter": "python",
   "pygments_lexer": "ipython3",
   "version": "3.7.4"
  }
 },
 "nbformat": 4,
 "nbformat_minor": 2
}
